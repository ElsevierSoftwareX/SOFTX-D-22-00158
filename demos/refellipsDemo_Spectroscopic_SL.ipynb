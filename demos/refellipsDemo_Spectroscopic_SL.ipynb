{
 "cells": [
  {
   "cell_type": "markdown",
   "metadata": {},
   "source": [
    "# refellips demo: Solid/Liquid\n",
    "This demo presents an example use case for fitting multi-wavelength single-angle ellipsometry data for solid-liquid systems with refellips."
   ]
  },
  {
   "cell_type": "code",
   "execution_count": null,
   "metadata": {},
   "outputs": [],
   "source": [
    "%matplotlib inline\n",
    "%load_ext autoreload\n",
    "%autoreload 2"
   ]
  },
  {
   "cell_type": "code",
   "execution_count": null,
   "metadata": {},
   "outputs": [],
   "source": [
    "import sys\n",
    "import os\n",
    "import numpy as np\n",
    "import pandas as pd\n",
    "import matplotlib.pyplot as plt\n",
    "import glob\n",
    "from refnx.analysis import CurveFitter\n",
    "from refnx.reflect import Slab"
   ]
  },
  {
   "cell_type": "code",
   "execution_count": null,
   "metadata": {},
   "outputs": [],
   "source": [
    "from refellips.dataSE import DataSE, open_EP4file\n",
    "from refellips.reflect_modelSE import ReflectModelSE\n",
    "from refellips.objectiveSE import ObjectiveSE\n",
    "from refellips.structureSE import RI"
   ]
  },
  {
   "cell_type": "markdown",
   "metadata": {},
   "source": [
    "### Import data"
   ]
  },
  {
   "cell_type": "code",
   "execution_count": null,
   "metadata": {},
   "outputs": [],
   "source": [
    "dname = 'WVASE_example_2nmSiO2_100nmPNIPAM_MultiWavelength_Water.dat'\n",
    "data = DataSE(data=dname)\n",
    "np.unique(data.wav)"
   ]
  },
  {
   "cell_type": "markdown",
   "metadata": {},
   "source": [
    "### Build model"
   ]
  },
  {
   "cell_type": "code",
   "execution_count": null,
   "metadata": {},
   "outputs": [],
   "source": [
    "from refnx.reflect import Linear, Erf\n",
    "\n",
    "si     = RI('../materials/silicon.csv')\n",
    "sio2   = RI('../materials/silica.csv')\n",
    "PNIPAM = RI('../materials/pnipam.csv')\n",
    "air    = RI('../materials/air.csv')\n",
    "h2o    = RI('../materials/water.csv')\n",
    "\n",
    "PNIPAM_layer = PNIPAM(1000)\n",
    "PNIPAM_layer.thick.setp(vary=True, bounds=(100,1500))\n",
    "PNIPAM_layer.vfsolv.setp(vary=True, value=0.8, bounds=(0.1,1))\n",
    "PNIPAM_layer.rough.setp(vary=True, value=100, bounds=(50,300))\n",
    "PNIPAM_layer.interfaces = Erf()\n",
    "\n",
    "struc = h2o() | PNIPAM_layer | sio2(20) | si()\n",
    "struc.contract = 2\n",
    "struc.solvent= h2o\n",
    "\n",
    "model = ReflectModelSE(struc, wavelength=658)"
   ]
  },
  {
   "cell_type": "markdown",
   "metadata": {},
   "source": [
    "# Fitting experimental data\n",
    "\n",
    "### Model & data pre fit"
   ]
  },
  {
   "cell_type": "code",
   "execution_count": null,
   "metadata": {},
   "outputs": [],
   "source": [
    "fig, ax = plt.subplots()\n",
    "axt = ax.twinx()\n",
    "\n",
    "psis = []\n",
    "deltas = []\n",
    "for dat in data:\n",
    "    model.wav = dat._current_wav\n",
    "    psi, delta = model([65])\n",
    "    psis.append(psi)\n",
    "    deltas.append(delta)\n",
    "\n",
    "data.mask = np.ones_like(data.mask, dtype=bool)\n",
    "ax.scatter(data.wav, data.psi, color='r')\n",
    "axt.scatter(data.wav, data.delta, color='b')\n",
    "\n",
    "ax.plot(data.wav, psis, color='r')\n",
    "axt.plot(data.wav, deltas, color='b')\n",
    "\n",
    "ax.set(ylabel='Psi', xlabel='Wavelength (nm)')\n",
    "axt.set(ylabel='Delta')"
   ]
  },
  {
   "cell_type": "code",
   "execution_count": null,
   "metadata": {},
   "outputs": [],
   "source": [
    "objective = ObjectiveSE(model, data)"
   ]
  },
  {
   "cell_type": "code",
   "execution_count": null,
   "metadata": {},
   "outputs": [],
   "source": [
    "fitter = CurveFitter(objective)\n",
    "fitter.fit(method='least_squares');"
   ]
  },
  {
   "cell_type": "markdown",
   "metadata": {},
   "source": [
    "### Model & data post fit"
   ]
  },
  {
   "cell_type": "code",
   "execution_count": null,
   "metadata": {},
   "outputs": [],
   "source": [
    "fig, ax = plt.subplots()\n",
    "axt = ax.twinx()\n",
    "\n",
    "psis = []\n",
    "deltas = []\n",
    "for dat in data:\n",
    "    model.wav = dat._current_wav\n",
    "    psi, delta = model([65])\n",
    "    psis.append(psi)\n",
    "    deltas.append(delta)\n",
    "\n",
    "data.mask = np.ones_like(data.mask, dtype=bool)\n",
    "p = ax.scatter(data.wav, data.psi, color='r')\n",
    "d = axt.scatter(data.wav, data.delta, color='b')\n",
    "\n",
    "ax.plot(data.wav, psis, color='r')\n",
    "axt.plot(data.wav, deltas, color='b')\n",
    "\n",
    "ax.legend(handles=[p,d], labels=['Psi', 'Delta'])\n",
    "ax.set(ylabel='Psi', xlabel='AOI, °')\n",
    "axt.set(ylabel='Delta')"
   ]
  },
  {
   "cell_type": "markdown",
   "metadata": {},
   "source": [
    "### Refractive index profile"
   ]
  },
  {
   "cell_type": "code",
   "execution_count": null,
   "metadata": {},
   "outputs": [],
   "source": [
    "fig, ax = plt.subplots()\n",
    "struc.reverse_structure = True\n",
    "ax.plot(*struc.sld_profile())\n",
    "struc.reverse_structure = False\n",
    "ax.set_ybound(1.3,1.6)\n",
    "ax.set(ylabel='Refractive index', xlabel='Distance from substrate (Å)')"
   ]
  },
  {
   "cell_type": "code",
   "execution_count": null,
   "metadata": {},
   "outputs": [],
   "source": [
    "for x in fitter.objective.model.parameters:\n",
    "    print(x)"
   ]
  },
  {
   "cell_type": "code",
   "execution_count": null,
   "metadata": {},
   "outputs": [],
   "source": []
  }
 ],
 "metadata": {
  "kernelspec": {
   "display_name": "Python 3 (ipykernel)",
   "language": "python",
   "name": "python3"
  },
  "language_info": {
   "codemirror_mode": {
    "name": "ipython",
    "version": 3
   },
   "file_extension": ".py",
   "mimetype": "text/x-python",
   "name": "python",
   "nbconvert_exporter": "python",
   "pygments_lexer": "ipython3",
   "version": "3.9.6"
  }
 },
 "nbformat": 4,
 "nbformat_minor": 4
}
