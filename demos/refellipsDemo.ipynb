{
 "cells": [
  {
   "cell_type": "markdown",
   "metadata": {},
   "source": [
    "# refellips demo: Solid/Air\n",
    "This demo presents a comparison between refellips and WVASE outputs as well as an example use case for fitting single-wavelength multi-angle ellipsometry data with refellips."
   ]
  },
  {
   "cell_type": "code",
   "execution_count": null,
   "metadata": {},
   "outputs": [],
   "source": [
    "%matplotlib inline\n",
    "%load_ext autoreload\n",
    "%autoreload 2"
   ]
  },
  {
   "cell_type": "code",
   "execution_count": null,
   "metadata": {},
   "outputs": [],
   "source": [
    "import sys\n",
    "import os\n",
    "import numpy as np\n",
    "import pandas as pd\n",
    "import matplotlib.pyplot as plt\n",
    "import glob\n",
    "from refnx.analysis import CurveFitter\n",
    "from refnx.reflect import Slab"
   ]
  },
  {
   "cell_type": "code",
   "execution_count": null,
   "metadata": {},
   "outputs": [],
   "source": [
    "from refellips.dataSE import DataSE, open_EP4file\n",
    "from refellips.reflect_modelSE import ReflectModelSE\n",
    "from refellips.objectiveSE import ObjectiveSE\n",
    "from refellips.structureSE import RI"
   ]
  },
  {
   "cell_type": "markdown",
   "metadata": {},
   "source": [
    "### Import data"
   ]
  },
  {
   "cell_type": "code",
   "execution_count": null,
   "metadata": {},
   "outputs": [],
   "source": [
    "dname = 'testData1_11nm_PNIPAM_on_Si_EP4.dat'\n",
    "data = DataSE(data=dname)\n",
    "\n",
    "WVASE_test = pd.read_csv(open('WVASE_example_2nmSiO2_11nmPNIPAM_658nm.txt','r'))"
   ]
  },
  {
   "cell_type": "markdown",
   "metadata": {},
   "source": [
    "### Build model"
   ]
  },
  {
   "cell_type": "code",
   "execution_count": null,
   "metadata": {},
   "outputs": [],
   "source": [
    "si     = RI('../materials/silicon.csv')\n",
    "sio2   = RI('../materials/silica.csv')\n",
    "PNIPAM = RI('../materials/pnipam.csv')\n",
    "air    = RI('../materials/air.csv')\n",
    "\n",
    "polymer_layer = PNIPAM(150)\n",
    "polymer_layer.name = 'PNIPAM'\n",
    "polymer_layer.thick.setp(vary=True, bounds=(100,500))\n",
    "\n",
    "silica_layer = sio2(20)\n",
    "silica_layer.name = 'Silica'\n",
    "silica_layer.thick.setp(vary=False, bounds=(1, 60))\n",
    "\n",
    "struc = air(np.inf) | polymer_layer | silica_layer | si(np.inf)\n",
    "\n",
    "model = ReflectModelSE(struc, wavelength=658)\n",
    "\n",
    "model.DeltaOffset.setp(value=1, vary=True, bounds=(0,10))"
   ]
  },
  {
   "cell_type": "markdown",
   "metadata": {},
   "source": [
    "# Comparison of refellips and WVASE outputs for a 2 nm SiO$_2$ and 15 nm PNIPAM system"
   ]
  },
  {
   "cell_type": "code",
   "execution_count": null,
   "metadata": {},
   "outputs": [],
   "source": [
    "fig, ax = plt.subplots()\n",
    "axt = ax.twinx()\n",
    "\n",
    "aois = np.linspace(50,75,100)\n",
    "psi, delta = model(aois)\n",
    "\n",
    "ax.plot(WVASE_test['Angle of Incidence'], WVASE_test['Psi'],ls='--', color='k', zorder=5, label='wvase')\n",
    "axt.plot(WVASE_test['Angle of Incidence'], WVASE_test['Delta'],ls='--', color='k', zorder=5)\n",
    "\n",
    "ax.plot(aois, psi, color='r', label='refellips')\n",
    "axt.plot(aois, delta, color='r')\n",
    "\n",
    "ax.legend(frameon=False)\n",
    "ax.set(ylabel='Psi', xlabel='AOI (°)')\n",
    "axt.set(ylabel='Delta')\n",
    "plt.show()"
   ]
  },
  {
   "cell_type": "markdown",
   "metadata": {},
   "source": [
    "# Fitting experimental data"
   ]
  },
  {
   "cell_type": "markdown",
   "metadata": {},
   "source": [
    "### Model & data pre fit"
   ]
  },
  {
   "cell_type": "code",
   "execution_count": null,
   "metadata": {},
   "outputs": [],
   "source": [
    "fig, ax = plt.subplots()\n",
    "axt = ax.twinx()\n",
    "\n",
    "aois = np.linspace(50,75,100)\n",
    "psi, delta = model(aois)\n",
    "ax.plot(aois, psi, color='r')\n",
    "p = ax.scatter(data.aoi, data.psi, color='r')\n",
    "\n",
    "axt.plot(aois, delta, color='b')\n",
    "d = axt.scatter(data.aoi, data.delta, color='b')\n",
    "\n",
    "ax.legend(handles=[p,d], labels=['Psi', 'Delta'])\n",
    "ax.set(ylabel='Psi', xlabel='AOI, °')\n",
    "axt.set(ylabel='Delta')\n",
    "plt.show()"
   ]
  },
  {
   "cell_type": "code",
   "execution_count": null,
   "metadata": {},
   "outputs": [],
   "source": [
    "objective = ObjectiveSE(model, data)"
   ]
  },
  {
   "cell_type": "code",
   "execution_count": null,
   "metadata": {},
   "outputs": [],
   "source": [
    "fitter = CurveFitter(objective)\n",
    "fitter.fit(method='differential_evolution');"
   ]
  },
  {
   "cell_type": "markdown",
   "metadata": {},
   "source": [
    "### Model & data post fit"
   ]
  },
  {
   "cell_type": "code",
   "execution_count": null,
   "metadata": {},
   "outputs": [],
   "source": [
    "fig, ax = plt.subplots()\n",
    "axt = ax.twinx()\n",
    "\n",
    "aois = np.linspace(50,75,100)\n",
    "psi, delta = model(aois)\n",
    "ax.plot(aois, psi, color='r')\n",
    "p = ax.scatter(data.aoi, data.psi, color='r')\n",
    "\n",
    "axt.plot(aois, delta, color='b')\n",
    "d = axt.scatter(data.aoi, data.delta, color='b')\n",
    "\n",
    "ax.legend(handles=[p,d], labels=['Psi', 'Delta'])\n",
    "ax.set(ylabel='Psi', xlabel='AOI, °')\n",
    "axt.set(ylabel='Delta')\n",
    "plt.show()"
   ]
  },
  {
   "cell_type": "code",
   "execution_count": null,
   "metadata": {},
   "outputs": [],
   "source": [
    "for i, x in enumerate(objective.model.parameters):\n",
    "    print(x)"
   ]
  },
  {
   "cell_type": "code",
   "execution_count": null,
   "metadata": {},
   "outputs": [],
   "source": []
  }
 ],
 "metadata": {
  "kernelspec": {
   "display_name": "Python 3 (ipykernel)",
   "language": "python",
   "name": "python3"
  },
  "language_info": {
   "codemirror_mode": {
    "name": "ipython",
    "version": 3
   },
   "file_extension": ".py",
   "mimetype": "text/x-python",
   "name": "python",
   "nbconvert_exporter": "python",
   "pygments_lexer": "ipython3",
   "version": "3.9.6"
  }
 },
 "nbformat": 4,
 "nbformat_minor": 4
}
