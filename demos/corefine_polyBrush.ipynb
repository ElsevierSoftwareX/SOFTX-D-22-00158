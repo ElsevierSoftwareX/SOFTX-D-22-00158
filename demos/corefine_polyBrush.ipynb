{
 "cells": [
  {
   "cell_type": "markdown",
   "metadata": {},
   "source": [
    "# Co-refinement of ellipsometry and neutron reflectometry data"
   ]
  },
  {
   "cell_type": "markdown",
   "metadata": {},
   "source": [
    "This is a demonstration of how to co-refine data obtained from both ellipsometry and neutron reflectometry using both *refellips* and *refnx*.\n",
    "\n",
    "The data analysed in this demonstration corresponds to a polymer film grafted onto an oxidised silicon wafer. Both ellipsometry and neutron reflectometry were performed at ANSTO using an Accurion EP4 and the *Platypus* neutron reflectometer, respectively.\n",
    "\n",
    "We begin by loading the relevant packages."
   ]
  },
  {
   "cell_type": "code",
   "execution_count": 1,
   "metadata": {},
   "outputs": [],
   "source": [
    "%matplotlib inline\n",
    "import scipy\n",
    "import numpy as np\n",
    "import matplotlib.pyplot as plt"
   ]
  },
  {
   "cell_type": "code",
   "execution_count": 2,
   "metadata": {},
   "outputs": [],
   "source": [
    "import refnx\n",
    "from refnx.dataset import ReflectDataset as RD\n",
    "from refnx.analysis import (\n",
    "    Transform,\n",
    "    CurveFitter,\n",
    "    Objective,\n",
    "    GlobalObjective,\n",
    "    Parameter,\n",
    ")\n",
    "from refnx.reflect import SLD, ReflectModel"
   ]
  },
  {
   "cell_type": "code",
   "execution_count": 3,
   "metadata": {},
   "outputs": [],
   "source": [
    "import refellips\n",
    "from refellips.dataSE import open_EP4file\n",
    "from refellips.reflect_modelSE import ReflectModelSE\n",
    "from refellips.objectiveSE import ObjectiveSE\n",
    "from refellips.dispersion import load_material"
   ]
  },
  {
   "cell_type": "code",
   "execution_count": 4,
   "metadata": {},
   "outputs": [
    {
     "name": "stdout",
     "output_type": "stream",
     "text": [
      "refnx: 0.1.30\n",
      "refellips: 0.0.3.dev0+ac3f3be\n",
      "scipy: 1.9.0\n",
      "numpy: 1.23.2\n"
     ]
    }
   ],
   "source": [
    "print(\n",
    "    f\"refnx: {refnx.version.version}\\nrefellips: {refellips.version.version}\\nscipy: {scipy.version.version}\\nnumpy: {np.version.version}\"\n",
    ")"
   ]
  },
  {
   "cell_type": "markdown",
   "metadata": {},
   "source": [
    "Here we load in the neutron reflectometry data (using `RD`) and the ellipsometry data (using `open_EP4file`) to be co-refined."
   ]
  },
  {
   "cell_type": "code",
   "execution_count": 5,
   "metadata": {},
   "outputs": [
    {
     "name": "stdout",
     "output_type": "stream",
     "text": [
      "No time data.\n",
      "Treating as single location\n"
     ]
    }
   ],
   "source": [
    "# Load in the NR data\n",
    "data_nr = RD(\"corefine_polyBrush_nr.dat\")\n",
    "\n",
    "# Load in the ellipsometry data\n",
    "data_ellips = open_EP4file(\"corefine_polyBrush_ellipsometry.dat\")"
   ]
  },
  {
   "cell_type": "markdown",
   "metadata": {},
   "source": [
    "In order to perform the co-refinement, we will make global parameters for the thickness of the silica and polymer layers to use in both the neutron reflectometry and ellipsometry models."
   ]
  },
  {
   "cell_type": "code",
   "execution_count": 6,
   "metadata": {},
   "outputs": [],
   "source": [
    "silica_thickness = Parameter(\n",
    "    20, vary=True, bounds=(1, 30), name=\"silica_thickness\"\n",
    ")\n",
    "polymer_thickness = Parameter(\n",
    "    250, vary=True, bounds=(150, 400), name=\"polymer_thickness\"\n",
    ")"
   ]
  },
  {
   "cell_type": "markdown",
   "metadata": {},
   "source": [
    "### Make the NR model"
   ]
  },
  {
   "cell_type": "markdown",
   "metadata": {},
   "source": [
    "We start by creating `SLD` objects to describe the SLD of each material."
   ]
  },
  {
   "cell_type": "code",
   "execution_count": 7,
   "metadata": {},
   "outputs": [],
   "source": [
    "air = SLD(0, \"air\")\n",
    "polymer = SLD(0.8, \"polymer\")\n",
    "sio2 = SLD(3.47, \"sio2\")\n",
    "si = SLD(2.07, \"si\")"
   ]
  },
  {
   "cell_type": "markdown",
   "metadata": {},
   "source": [
    "Set the thickness value and bounds for the silica and polymer layer."
   ]
  },
  {
   "cell_type": "code",
   "execution_count": 8,
   "metadata": {},
   "outputs": [],
   "source": [
    "sio2_l = sio2(silica_thickness)\n",
    "\n",
    "polymer_layer = polymer(polymer_thickness)\n",
    "polymer_layer.sld.real.setp(vary=True, bounds=(0.50, 1.0))"
   ]
  },
  {
   "cell_type": "markdown",
   "metadata": {},
   "source": [
    "Establish the interface layer structure: fronting to backing."
   ]
  },
  {
   "cell_type": "code",
   "execution_count": 9,
   "metadata": {},
   "outputs": [],
   "source": [
    "structure_nr = air | polymer_layer | sio2_l | si\n",
    "structure_nr.contract = 1.5"
   ]
  },
  {
   "cell_type": "markdown",
   "metadata": {},
   "source": [
    "Create the NR model (using `ReflectModel`) and set the scale & background"
   ]
  },
  {
   "cell_type": "code",
   "execution_count": 10,
   "metadata": {},
   "outputs": [],
   "source": [
    "model_nr = ReflectModel(structure_nr)\n",
    "model_nr.bkg.setp(vary=True, bounds=(0, 5e-6))\n",
    "model_nr.scale.setp(vary=True, bounds=(0.7, 1.2))"
   ]
  },
  {
   "cell_type": "markdown",
   "metadata": {},
   "source": [
    "Create the NR `Objective`"
   ]
  },
  {
   "cell_type": "code",
   "execution_count": 11,
   "metadata": {},
   "outputs": [],
   "source": [
    "objective_nr = Objective(\n",
    "    model_nr, data_nr, use_weights=False, transform=Transform(\"logY\")\n",
    ")"
   ]
  },
  {
   "cell_type": "markdown",
   "metadata": {},
   "source": [
    "### Make the ellipsometry model "
   ]
  },
  {
   "cell_type": "markdown",
   "metadata": {},
   "source": [
    "The ellipsometry model and objective are created in an analogous fashion to NR. Dispersion curves to describe a material are loaded using `load_material` and the model & objective are created using the `ReflectModelSE` and `ObjectiveSE` in *refellips*, respectively."
   ]
  },
  {
   "cell_type": "code",
   "execution_count": 12,
   "metadata": {},
   "outputs": [],
   "source": [
    "si = load_material(\"silicon\")\n",
    "sio2 = load_material(\"silica\")\n",
    "PNIPAM = load_material(\"pnipam\")\n",
    "air = load_material(\"air\")\n",
    "\n",
    "polymer_layer = PNIPAM(polymer_thickness)\n",
    "polymer_layer.name = \"PNIPAM\"\n",
    "\n",
    "silica_layer = sio2(silica_thickness)\n",
    "silica_layer.name = \"Silica\"\n",
    "\n",
    "structure_ellips = air() | polymer_layer | silica_layer | si()\n",
    "structure_ellips.contract = 1.5\n",
    "\n",
    "model_ellips = ReflectModelSE(structure_ellips)\n",
    "\n",
    "objective_ellips = ObjectiveSE(model_ellips, data_ellips, use_weights=False)"
   ]
  },
  {
   "cell_type": "markdown",
   "metadata": {},
   "source": [
    "### The global objective"
   ]
  },
  {
   "cell_type": "markdown",
   "metadata": {},
   "source": [
    "We now form a `GlobalObjective` from the individual `Objective`s. This means that both objectives are analysed together: co-refinement."
   ]
  },
  {
   "cell_type": "code",
   "execution_count": 13,
   "metadata": {},
   "outputs": [],
   "source": [
    "global_objective = GlobalObjective([objective_nr, objective_ellips])"
   ]
  },
  {
   "cell_type": "markdown",
   "metadata": {},
   "source": [
    "### Fitting the data"
   ]
  },
  {
   "cell_type": "markdown",
   "metadata": {},
   "source": [
    "Create the `CurveFitter` and fit with differential evolution."
   ]
  },
  {
   "cell_type": "code",
   "execution_count": 14,
   "metadata": {},
   "outputs": [
    {
     "name": "stderr",
     "output_type": "stream",
     "text": [
      "33it [00:01, 21.22it/s]\n"
     ]
    }
   ],
   "source": [
    "fitter = CurveFitter(global_objective)\n",
    "fitter.fit(\"differential_evolution\", target=\"nll\");"
   ]
  },
  {
   "cell_type": "markdown",
   "metadata": {},
   "source": [
    "### Plot the results"
   ]
  },
  {
   "cell_type": "code",
   "execution_count": 15,
   "metadata": {},
   "outputs": [
    {
     "data": {
      "image/png": "[encoded data removed]",
      "text/plain": [
       "<Figure size 1000x400 with 3 Axes>"
      ]
     },
     "metadata": {},
     "output_type": "display_data"
    }
   ],
   "source": [
    "fig = plt.figure(figsize=(10, 4))\n",
    "\n",
    "ax1 = fig.add_subplot(121)\n",
    "objective_nr.plot(fig=fig)\n",
    "ax1.set_xlabel(\"Q\")\n",
    "ax1.set_ylabel(\"log(R)\")\n",
    "ax1.set_title(\"Neutron reflection data\")\n",
    "\n",
    "ax2 = fig.add_subplot(122)\n",
    "objective_ellips.plot(fig=fig)\n",
    "ax2.set_title(\"Ellipsometry data\")\n",
    "\n",
    "fig.tight_layout()"
   ]
  },
  {
   "cell_type": "code",
   "execution_count": 16,
   "metadata": {
    "scrolled": false
   },
   "outputs": [
    {
     "name": "stdout",
     "output_type": "stream",
     "text": [
      "_______________________________________________________________________________\n",
      "\n",
      "--Global Objective--\n",
      "________________________________________________________________________________\n",
      "Objective - 5540228064\n",
      "Dataset = corefine_polyBrush_nr\n",
      "datapoints = 166\n",
      "chi2 = 0.2678826623881786\n",
      "Weighted = False\n",
      "Transform = Transform('logY')\n",
      "________________________________________________________________________________\n",
      "Parameters:       ''       \n",
      "________________________________________________________________________________\n",
      "Parameters: 'instrument parameters'\n",
      "<Parameter:    'scale'    , value=0.984997 +/- 0.014, bounds=[0.7, 1.2]>\n",
      "<Parameter:     'bkg'     , value=3.80541e-07 +/- 7.42e-08, bounds=[0.0, 5e-06]>\n",
      "<Parameter:'dq - resolution', value=5 (fixed)  , bounds=[-inf, inf]>\n",
      "<Parameter:  'q_offset'   , value=0 (fixed)  , bounds=[-inf, inf]>\n",
      "________________________________________________________________________________\n",
      "Parameters: 'Structure - ' \n",
      "________________________________________________________________________________\n",
      "Parameters:      'air'     \n",
      "<Parameter: 'air - thick' , value=0 (fixed)  , bounds=[-inf, inf]>\n",
      "________________________________________________________________________________\n",
      "Parameters:      'air'     \n",
      "<Parameter:  'air - sld'  , value=0 (fixed)  , bounds=[-inf, inf]>\n",
      "<Parameter: 'air - isld'  , value=0 (fixed)  , bounds=[-inf, inf]>\n",
      "<Parameter: 'air - rough' , value=0 (fixed)  , bounds=[-inf, inf]>\n",
      "<Parameter:'air - volfrac solvent', value=0 (fixed)  , bounds=[0.0, 1.0]>\n",
      "________________________________________________________________________________\n",
      "Parameters:    'polymer'   \n",
      "<Parameter:'polymer_thickness', value=253.404 +/- 0.264, bounds=[150.0, 400.0]>\n",
      "________________________________________________________________________________\n",
      "Parameters:    'polymer'   \n",
      "<Parameter:'polymer - sld', value=0.587018 +/- 0.0087, bounds=[0.5, 1.0]>\n",
      "<Parameter:'polymer - isld', value=0 (fixed)  , bounds=[-inf, inf]>\n",
      "<Parameter:'polymer - rough', value=0 (fixed)  , bounds=[-inf, inf]>\n",
      "<Parameter:'polymer - volfrac solvent', value=0 (fixed)  , bounds=[0.0, 1.0]>\n",
      "________________________________________________________________________________\n",
      "Parameters:     'sio2'     \n",
      "<Parameter:'silica_thickness', value=15.938 +/- 0.222, bounds=[1.0, 30.0]>\n",
      "________________________________________________________________________________\n",
      "Parameters:     'sio2'     \n",
      "<Parameter: 'sio2 - sld'  , value=3.47 (fixed)  , bounds=[-inf, inf]>\n",
      "<Parameter: 'sio2 - isld' , value=0 (fixed)  , bounds=[-inf, inf]>\n",
      "<Parameter:'sio2 - rough' , value=0 (fixed)  , bounds=[-inf, inf]>\n",
      "<Parameter:'sio2 - volfrac solvent', value=0 (fixed)  , bounds=[0.0, 1.0]>\n",
      "________________________________________________________________________________\n",
      "Parameters:      'si'      \n",
      "<Parameter: 'si - thick'  , value=0 (fixed)  , bounds=[-inf, inf]>\n",
      "________________________________________________________________________________\n",
      "Parameters:      'si'      \n",
      "<Parameter:  'si - sld'   , value=2.07 (fixed)  , bounds=[-inf, inf]>\n",
      "<Parameter:  'si - isld'  , value=0 (fixed)  , bounds=[-inf, inf]>\n",
      "<Parameter: 'si - rough'  , value=0 (fixed)  , bounds=[-inf, inf]>\n",
      "<Parameter:'si - volfrac solvent', value=0 (fixed)  , bounds=[0.0, 1.0]>\n",
      "\n",
      "\n",
      "________________________________________________________________________________\n",
      "Objective - 5539916096\n",
      "Dataset = corefine_pol\n",
      "datapoints = 4\n",
      "chi2 = 0.012831475375045788\n",
      "Weighted = False\n",
      "Transform = None\n",
      "________________________________________________________________________________\n",
      "Parameters:      None      \n",
      "________________________________________________________________________________\n",
      "Parameters: 'instrument parameters'\n",
      "<Parameter:'delta offset' , value=0 (fixed)  , bounds=[-inf, inf]>\n",
      "________________________________________________________________________________\n",
      "Parameters: 'Structure - ' \n",
      "________________________________________________________________________________\n",
      "Parameters:       ''       \n",
      "<Parameter:  ' - thick'   , value=0 (fixed)  , bounds=[-inf, inf]>\n",
      "<Parameter:  ' - rough'   , value=0 (fixed)  , bounds=[-inf, inf]>\n",
      "<Parameter:' - volfrac solvent', value=0 (fixed)  , bounds=[0.0, 1.0]>\n",
      "________________________________________________________________________________\n",
      "Parameters:    'PNIPAM'    \n",
      "<Parameter:'polymer_thickness', value=253.404 +/- 0.264, bounds=[150.0, 400.0]>\n",
      "<Parameter:  ' - rough'   , value=0 (fixed)  , bounds=[-inf, inf]>\n",
      "<Parameter:' - volfrac solvent', value=0 (fixed)  , bounds=[0.0, 1.0]>\n",
      "________________________________________________________________________________\n",
      "Parameters:    'Silica'    \n",
      "<Parameter:'silica_thickness', value=15.938 +/- 0.222, bounds=[1.0, 30.0]>\n",
      "<Parameter:  ' - rough'   , value=0 (fixed)  , bounds=[-inf, inf]>\n",
      "<Parameter:' - volfrac solvent', value=0 (fixed)  , bounds=[0.0, 1.0]>\n",
      "________________________________________________________________________________\n",
      "Parameters:       ''       \n",
      "<Parameter:  ' - thick'   , value=0 (fixed)  , bounds=[-inf, inf]>\n",
      "<Parameter:  ' - rough'   , value=0 (fixed)  , bounds=[-inf, inf]>\n",
      "<Parameter:' - volfrac solvent', value=0 (fixed)  , bounds=[0.0, 1.0]>\n",
      "\n",
      "\n"
     ]
    }
   ],
   "source": [
    "print(global_objective)"
   ]
  },
  {
   "cell_type": "code",
   "execution_count": null,
   "metadata": {},
   "outputs": [],
   "source": []
  }
 ],
 "metadata": {
  "kernelspec": {
   "display_name": "Python 3 (ipykernel)",
   "language": "python",
   "name": "python3"
  },
  "language_info": {
   "codemirror_mode": {
    "name": "ipython",
    "version": 3
   },
   "file_extension": ".py",
   "mimetype": "text/x-python",
   "name": "python",
   "nbconvert_exporter": "python",
   "pygments_lexer": "ipython3",
   "version": "3.9.13"
  }
 },
 "nbformat": 4,
 "nbformat_minor": 1
}
