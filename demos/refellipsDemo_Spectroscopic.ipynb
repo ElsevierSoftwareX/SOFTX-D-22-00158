{
 "cells": [
  {
   "cell_type": "markdown",
   "metadata": {},
   "source": [
    "# refellips demo: Solid/Aid\n",
    "This demo presents an example use case for fitting multi-wavelength multi-angle ellipsometry data with refellips."
   ]
  },
  {
   "cell_type": "code",
   "execution_count": null,
   "metadata": {},
   "outputs": [],
   "source": [
    "%matplotlib inline\n",
    "%load_ext autoreload\n",
    "%autoreload 2"
   ]
  },
  {
   "cell_type": "code",
   "execution_count": null,
   "metadata": {},
   "outputs": [],
   "source": [
    "import sys\n",
    "import os\n",
    "import numpy as np\n",
    "import pandas as pd\n",
    "import matplotlib.pyplot as plt\n",
    "import glob\n",
    "from refnx.analysis import CurveFitter\n",
    "from refnx.reflect import Slab"
   ]
  },
  {
   "cell_type": "code",
   "execution_count": null,
   "metadata": {},
   "outputs": [],
   "source": [
    "from refellips.dataSE import DataSE, open_EP4file\n",
    "from refellips.reflect_modelSE import ReflectModelSE\n",
    "from refellips.objectiveSE import ObjectiveSE\n",
    "from refellips.structureSE import RI"
   ]
  },
  {
   "cell_type": "markdown",
   "metadata": {},
   "source": [
    "### Import data"
   ]
  },
  {
   "cell_type": "code",
   "execution_count": null,
   "metadata": {},
   "outputs": [],
   "source": [
    "dname = 'WVASE_example_2nmSiO2_20nmPNIPAM_MultiWavelength.txt'\n",
    "data = DataSE(data=dname)\n",
    "np.unique(data.wav)"
   ]
  },
  {
   "cell_type": "markdown",
   "metadata": {},
   "source": [
    "### Build model"
   ]
  },
  {
   "cell_type": "code",
   "execution_count": null,
   "metadata": {},
   "outputs": [],
   "source": [
    "si     = RI('../materials/silicon.csv')\n",
    "sio2   = RI('../materials/silica.csv')\n",
    "PNIPAM = RI('../materials/pnipam.csv')\n",
    "air    = RI('../materials/air.csv')\n",
    "\n",
    "PNIPAM_layer = PNIPAM(150)\n",
    "PNIPAM_layer.thick.setp(vary=True, bounds=(100,500))\n",
    "\n",
    "struc = air() | PNIPAM_layer | sio2(20) | si()\n",
    "\n",
    "model = ReflectModelSE(struc, wavelength=658)"
   ]
  },
  {
   "cell_type": "markdown",
   "metadata": {},
   "source": [
    "# Fitting experimental data\n",
    "\n",
    "### Model & data pre fit"
   ]
  },
  {
   "cell_type": "code",
   "execution_count": null,
   "metadata": {},
   "outputs": [],
   "source": [
    "fig, ax = plt.subplots()\n",
    "axt = ax.twinx()\n",
    "\n",
    "aois = np.linspace(50,75,100)\n",
    "\n",
    "for dat in data:\n",
    "    model.wav = dat._current_wav\n",
    "    psi, delta = model(aois)\n",
    "    ax.plot(aois, psi, color='r')\n",
    "    p = ax.scatter(dat.aoi, dat.psi, color='r')\n",
    "\n",
    "    axt.plot(aois, delta, color='b')\n",
    "    d = axt.scatter(dat.aoi, dat.delta, color='b')\n",
    "\n",
    "    ax.legend(handles=[p,d], labels=['Psi', 'Delta'])\n",
    "    ax.set(ylabel='Psi', xlabel='AOI, °')\n",
    "    axt.set(ylabel='Delta')"
   ]
  },
  {
   "cell_type": "code",
   "execution_count": null,
   "metadata": {},
   "outputs": [],
   "source": [
    "objective = ObjectiveSE(model, data)"
   ]
  },
  {
   "cell_type": "code",
   "execution_count": null,
   "metadata": {},
   "outputs": [],
   "source": [
    "objective.residuals()"
   ]
  },
  {
   "cell_type": "code",
   "execution_count": null,
   "metadata": {},
   "outputs": [],
   "source": [
    "fitter = CurveFitter(objective)\n",
    "fitter.fit(method='least_squares');"
   ]
  },
  {
   "cell_type": "markdown",
   "metadata": {},
   "source": [
    "### Model & data post fit"
   ]
  },
  {
   "cell_type": "code",
   "execution_count": null,
   "metadata": {},
   "outputs": [],
   "source": [
    "fig, ax = plt.subplots()\n",
    "axt = ax.twinx()\n",
    "\n",
    "aois = np.linspace(50,75,100)\n",
    "\n",
    "for dat in data:\n",
    "    model.wav = dat._current_wav\n",
    "    psi, delta = model(aois)\n",
    "    ax.plot(aois, psi, color='r')\n",
    "    p = ax.scatter(dat.aoi, dat.psi, color='r')\n",
    "\n",
    "    axt.plot(aois, delta, color='b')\n",
    "    d = axt.scatter(dat.aoi, dat.delta, color='b')\n",
    "\n",
    "    ax.legend(handles=[p,d], labels=['Psi', 'Delta'])\n",
    "    ax.set(ylabel='Psi', xlabel='AOI, °')\n",
    "    axt.set(ylabel='Delta')"
   ]
  },
  {
   "cell_type": "code",
   "execution_count": null,
   "metadata": {},
   "outputs": [],
   "source": [
    "for i, x in enumerate(objective.model.parameters):\n",
    "    print(x)"
   ]
  }
 ],
 "metadata": {
  "kernelspec": {
   "display_name": "Python 3 (ipykernel)",
   "language": "python",
   "name": "python3"
  },
  "language_info": {
   "codemirror_mode": {
    "name": "ipython",
    "version": 3
   },
   "file_extension": ".py",
   "mimetype": "text/x-python",
   "name": "python",
   "nbconvert_exporter": "python",
   "pygments_lexer": "ipython3",
   "version": "3.9.6"
  }
 },
 "nbformat": 4,
 "nbformat_minor": 4
}
