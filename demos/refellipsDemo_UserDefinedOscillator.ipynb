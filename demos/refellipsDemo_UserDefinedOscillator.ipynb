{
 "cells": [
  {
   "cell_type": "markdown",
   "id": "84e1da3f",
   "metadata": {
    "pycharm": {
     "name": "#%% md\n"
    }
   },
   "source": [
    "# *refellips* demo: User defined dielectric function"
   ]
  },
  {
   "cell_type": "markdown",
   "id": "ea378f18",
   "metadata": {
    "pycharm": {
     "name": "#%% md\n"
    }
   },
   "source": [
    "This demonstration presents an example on how to create and implement a user defined dielectric function. For this example we will be using the Gaussian oscillator from `refellips.structureSE.Gauss` to model a material's optical properties. We will then use this oscillator to calculate the ellipsometric parameters, $\\Delta$ and $\\Psi$, for a particular structure."
   ]
  },
  {
   "cell_type": "code",
   "execution_count": 1,
   "id": "67256f60",
   "metadata": {
    "pycharm": {
     "name": "#%%\n"
    }
   },
   "outputs": [],
   "source": [
    "%matplotlib inline\n",
    "%load_ext autoreload\n",
    "%autoreload 2"
   ]
  },
  {
   "cell_type": "code",
   "execution_count": 2,
   "id": "52a46fea",
   "metadata": {
    "pycharm": {
     "name": "#%%\n"
    }
   },
   "outputs": [],
   "source": [
    "import sys\n",
    "import numpy as np\n",
    "import matplotlib.pyplot as plt\n",
    "\n",
    "plt.rcParams.update({\"font.size\": 14})\n",
    "import scipy.fftpack as ft  # FFT used in Hilbert Transform"
   ]
  },
  {
   "cell_type": "code",
   "execution_count": 3,
   "id": "94580bce",
   "metadata": {
    "pycharm": {
     "name": "#%%\n"
    }
   },
   "outputs": [
    {
     "name": "stdout",
     "output_type": "stream",
     "text": [
      "refellips: 0.0.3.dev0+92f1c50\n",
      "refnx: 0.1.30\n"
     ]
    }
   ],
   "source": [
    "import refellips, refnx\n",
    "\n",
    "print(f\"refellips: {refellips.__version__}\\nrefnx: {refnx.__version__}\")"
   ]
  },
  {
   "cell_type": "markdown",
   "id": "e04d7fce",
   "metadata": {
    "pycharm": {
     "name": "#%% md\n"
    }
   },
   "source": [
    "## Creating the dielectric function\n",
    "Here we provide an example of how to create a *refellips* compatible dielectric function. We start be loading in the relevant packages from both refellips and refnx. The class must inherit from `ScattererSE` for later $\\Delta$ and $\\Psi$ calculations. For optical models containing multiple oscillators `refnx.analysis.sequence_to_parameters` will be especially useful."
   ]
  },
  {
   "cell_type": "code",
   "execution_count": 4,
   "id": "65b4a5c5",
   "metadata": {
    "pycharm": {
     "name": "#%%\n"
    }
   },
   "outputs": [],
   "source": [
    "from refellips.structureSE import ScattererSE, nm_to_eV\n",
    "from refnx.analysis import (\n",
    "    Parameters,\n",
    "    possibly_create_parameter,\n",
    "    sequence_to_parameters,\n",
    ")"
   ]
  },
  {
   "cell_type": "markdown",
   "id": "3eae67ef",
   "metadata": {
    "pycharm": {
     "name": "#%% md\n"
    }
   },
   "source": [
    "We are now ready to create the class for our dielectric function: `Gauss`. This object will be composed of three functions: `__init__`, `parameters` and `epsilon`. The `epsilon` function is where the calculation of our complex dielectric function will take place."
   ]
  },
  {
   "cell_type": "code",
   "execution_count": 5,
   "id": "805fe775",
   "metadata": {
    "pycharm": {
     "name": "#%%\n"
    }
   },
   "outputs": [],
   "source": [
    "class Gauss(ScattererSE):\n",
    "    \"\"\"\n",
    "    Dispersion curves for Gaussian oscillators.\n",
    "\n",
    "    Parameters\n",
    "    ----------\n",
    "    Am: {float, Parameter, sequence}\n",
    "        Amplitude of Gaussian\n",
    "    Br: {float, Parameter, sequence}\n",
    "        Broadening of oscillator\n",
    "    En: {float, Parameter, sequence}\n",
    "        Centre energy of oscillator (eV)\n",
    "    Einf: {float, Parameter}\n",
    "        Offset term\n",
    "    wavelength : float\n",
    "        default wavelength for calculation (nm)\n",
    "    name : str, optional\n",
    "        Name of material.\n",
    "\n",
    "    Notes\n",
    "    -----\n",
    "    Calculates dispersion curves for *k* Gaussian oscillators.\n",
    "    The model is Kramers-Kronig consistent.\n",
    "    The parameters for constructing this object should have\n",
    "    `len(Am) == len(Br) == len(En) == k`, or be single float/Parameter.\n",
    "\n",
    "    \"\"\"\n",
    "\n",
    "    # The Gauss oscillator takes 4 input parameters (Am, Br, En, Einf).\n",
    "    # We must include these here. We must also supply a default wavelength.\n",
    "    # However, we will easily be able this wavelength later.\n",
    "    def __init__(self, Am, Br, En, Einf=1, wavelength=658, name=\"\"):\n",
    "        super().__init__(name=name, wavelength=wavelength)\n",
    "\n",
    "        # Am, Br and En can be a sequence if more than one\n",
    "        # Gaussian oscillator is employed. Here we use the\n",
    "        # `sequence_to_parameters` function from *refnx* to create\n",
    "        # these parameters.\n",
    "        self.Am = sequence_to_parameters([Am])\n",
    "        self.Br = sequence_to_parameters([Br])\n",
    "        self.En = sequence_to_parameters([En])\n",
    "\n",
    "        # We must also make sure that the number of supplied\n",
    "        # amplitudes/broadening/location parameters are all the same.\n",
    "        if not (len(self.Am) == len(self.Br) == len(self.En)):\n",
    "            raise ValueError(\"A, B, E all have to be the same length\")\n",
    "\n",
    "        # Einf is a float, not a sequence, so we use\n",
    "        # `possibly_create_parameter` from *refnx* for that.\n",
    "        self.Einf = possibly_create_parameter(Einf)\n",
    "\n",
    "        # We then append all parameters to `_parameters`.\n",
    "        self._parameters = Parameters(name=name)\n",
    "        self._parameters.extend([self.Am, self.Br, self.En])\n",
    "        self._parameters.append(self.Einf)\n",
    "\n",
    "    # The `parameters` property returns all the `Parameter`\n",
    "    # contained in the class\n",
    "    @property\n",
    "    def parameters(self):\n",
    "        return self._parameters\n",
    "\n",
    "    # The `epsilon` method calculates the complex dielectric\n",
    "    # function of our material. The method takes an energy in *eV* which\n",
    "    # can be converted to wavelength in nm gth using\n",
    "    # `refellips.structureSE.nm_to_eV`. `energy` can be a float or a numpy\n",
    "    # array.\n",
    "    def epsilon(self, energy):\n",
    "        \"\"\"\n",
    "        The complex dielectric function for the oscillator\n",
    "        \"\"\"\n",
    "\n",
    "        # Convert the sequence of each of the Gaussian properties to a\n",
    "        # numpy array. self.Am, etc, are a `refnx.parameters.Parameters`\n",
    "        # object.\n",
    "        A = np.array(self.Am)\n",
    "        B = np.array(self.Br)\n",
    "        E = np.array(self.En)\n",
    "        energies = np.asfarray(energy)\n",
    "\n",
    "        # Here we calculate the value of $\\varepsilon_2$ (`e2`)\n",
    "        # for a Gaussian oscillator over a given energy window;\n",
    "        # here we have chosen from -20 eV to 20 eV. This range\n",
    "        # is left to the discretion of the user. We will later\n",
    "        # interpolate the to obtain values at the requested energies.\n",
    "        # The calculation is done in a vectorised manner for speed.\n",
    "        _e_pad = np.linspace(-20, 20, 2048)\n",
    "        sigma = B / 2 / np.sqrt(np.log(2))\n",
    "        e2 = A[:, None] * np.exp(\n",
    "            -(((_e_pad - E[:, None]) / sigma[:, None]) ** 2)\n",
    "        )\n",
    "        e2 -= A[:, None] * np.exp(\n",
    "            -(((_e_pad + E[:, None]) / sigma[:, None]) ** 2)\n",
    "        )\n",
    "        e2 = np.sum(e2, axis=0)\n",
    "        # We have now calculated `e2`.\n",
    "\n",
    "        # We will now determine the value of $\\varepsilon_1$ (`e1`),\n",
    "        # which is Kramers-Kronig consistent, via a Hilbert transform.\n",
    "        # If your oscillator/model describing the optical properties\n",
    "        # of your material is not Kramers-Kronig consistent, you can\n",
    "        # simply provide an equation for `e1`.\n",
    "        e1 = ft.hilbert(e2) + self.Einf.value\n",
    "\n",
    "        # Now that we have expressions for both `e1` and `e2` across a\n",
    "        # given energy window from -20 eV to 20 eV, we can (linearly)\n",
    "        # interpolate to find $\\varepsilon$ at given energy. Here we\n",
    "        # simply use np.interp to interpolate $varepsilon.\n",
    "        _e1 = np.interp(energies, _e_pad, e1)\n",
    "        _e2 = np.interp(energies, _e_pad, e2)\n",
    "\n",
    "        # We're now done and ready to return the requested $\\varepsilon$.\n",
    "        # We will only return a single (complex) value for\n",
    "        # $\\varepsilon$ if only 1 energy was requested.\n",
    "        r = np.atleast_1d(_e1 + 1j * _e2)\n",
    "        if np.isscalar(energy) and len(r) == 1:\n",
    "            return r[0]\n",
    "        return r"
   ]
  },
  {
   "cell_type": "markdown",
   "id": "90a97776",
   "metadata": {
    "pycharm": {
     "name": "#%% md\n"
    }
   },
   "source": [
    "## Calculating the complex dielectric function"
   ]
  },
  {
   "cell_type": "markdown",
   "id": "c193b3af",
   "metadata": {
    "pycharm": {
     "name": "#%% md\n"
    }
   },
   "source": [
    "### Creating the wavelength/energy range\n",
    "Now that we have created the class `Gauss` to describe the optical properties of our material, we can create the wavelength range (in nm) that we wish to model. This will be converted to from nm to eV to establish an energy range."
   ]
  },
  {
   "cell_type": "code",
   "execution_count": 6,
   "id": "54faccc1",
   "metadata": {
    "pycharm": {
     "name": "#%%\n"
    }
   },
   "outputs": [],
   "source": [
    "wavelength_range = np.linspace(250, 1100, 250)\n",
    "energy_range = nm_to_eV(wavelength_range)"
   ]
  },
  {
   "cell_type": "markdown",
   "id": "2f4c80e4",
   "metadata": {
    "pycharm": {
     "name": "#%% md\n"
    }
   },
   "source": [
    "### Creating the Gauss object\n",
    "We now create sequences that describe the Gaussian oscillators. This example will use 3 oscillators."
   ]
  },
  {
   "cell_type": "code",
   "execution_count": 7,
   "id": "53fffab4",
   "metadata": {
    "pycharm": {
     "name": "#%%\n"
    }
   },
   "outputs": [],
   "source": [
    "Am = [2, 0.5, 1]\n",
    "Br = [0.75, 0.5, 0.6]\n",
    "En = [0.6, 2, 1.2]\n",
    "Einf = 1"
   ]
  },
  {
   "cell_type": "code",
   "execution_count": 8,
   "id": "f1955e4c",
   "metadata": {
    "pycharm": {
     "name": "#%%\n"
    }
   },
   "outputs": [],
   "source": [
    "gauss = Gauss(Am, Br, En, Einf)"
   ]
  },
  {
   "cell_type": "markdown",
   "id": "a589a5a5",
   "metadata": {
    "pycharm": {
     "name": "#%% md\n"
    }
   },
   "source": [
    "### Plotting $\\varepsilon$ as a function of energy\n",
    "Now that we have an object `gauss` and an `energy_range`, we can call `gauss.epsilon(energy_range)` to provide the relating complex dielectric function, $\\varepsilon$. We will split $\\varepsilon$ into its real and imaginary components `e1` and `e2` and plot as a function of energy."
   ]
  },
  {
   "cell_type": "code",
   "execution_count": 9,
   "id": "29e8b115",
   "metadata": {
    "pycharm": {
     "name": "#%%\n"
    }
   },
   "outputs": [],
   "source": [
    "e = gauss.epsilon(energy_range)\n",
    "e1 = e.real\n",
    "e2 = e.imag"
   ]
  },
  {
   "cell_type": "code",
   "execution_count": 10,
   "id": "671ea061",
   "metadata": {
    "pycharm": {
     "name": "#%%\n"
    }
   },
   "outputs": [
    {
     "data": {
      "image/png": "[encoded data removed]",
      "text/plain": [
       "<Figure size 576x360 with 2 Axes>"
      ]
     },
     "metadata": {
      "needs_background": "light"
     },
     "output_type": "display_data"
    }
   ],
   "source": [
    "fig, ax = plt.subplots(figsize=(8, 5))\n",
    "ax.plot(energy_range, e1, c=\"blue\", label=\"$\\\\varepsilon_1$\")\n",
    "\n",
    "axt = ax.twinx()\n",
    "axt.plot(energy_range, e2, c=\"red\", label=\"$\\\\varepsilon_2$\")\n",
    "\n",
    "ax.set(ylabel=\"$\\\\varepsilon_1$\", xlabel=\"Energy (eV)\", xlim=(1, 5))\n",
    "axt.set_ylabel(\"$\\\\varepsilon_2$\")\n",
    "\n",
    "fig.legend(loc=(0.77, 0.5), bbox_transform=ax.transAxes, frameon=False)\n",
    "fig.tight_layout()"
   ]
  },
  {
   "cell_type": "markdown",
   "id": "fa4c9df5",
   "metadata": {
    "pycharm": {
     "name": "#%% md\n"
    }
   },
   "source": [
    "## Plotting $n, k$ as a function of wavlength\n",
    "We can now calculate the refractive indices (`n`) and extinction coefficients (`k`) of our material from `e` and plot as a function of wavelength. You can also request this from the `Gauss` object by using the `complex` method, `gauss.complex(wavelength_range)`."
   ]
  },
  {
   "cell_type": "code",
   "execution_count": 11,
   "id": "799cd17c",
   "metadata": {
    "pycharm": {
     "name": "#%%\n"
    }
   },
   "outputs": [],
   "source": [
    "ri = np.sqrt(e)\n",
    "\n",
    "n = ri.real\n",
    "k = ri.imag"
   ]
  },
  {
   "cell_type": "code",
   "execution_count": 12,
   "id": "e2a83d4a",
   "metadata": {
    "pycharm": {
     "name": "#%%\n"
    }
   },
   "outputs": [
    {
     "data": {
      "image/png": "[encoded data removed]",
      "text/plain": [
       "<Figure size 576x360 with 2 Axes>"
      ]
     },
     "metadata": {
      "needs_background": "light"
     },
     "output_type": "display_data"
    }
   ],
   "source": [
    "fig, ax = plt.subplots(figsize=(8, 5))\n",
    "ax.plot(wavelength_range, n, c=\"blue\", label=\"$n$\")\n",
    "\n",
    "axt = ax.twinx()\n",
    "axt.plot(wavelength_range, k, c=\"red\", label=\"$k$\")\n",
    "\n",
    "ax.set(ylabel=\"$n$\", xlabel=\"Wavelength (nm)\")\n",
    "axt.set_ylabel(\"$k$\")\n",
    "\n",
    "fig.legend(loc=(0.77, 0.14), bbox_transform=ax.transAxes, frameon=False)\n",
    "fig.tight_layout()"
   ]
  },
  {
   "cell_type": "markdown",
   "id": "0488e873",
   "metadata": {
    "pycharm": {
     "name": "#%% md\n"
    }
   },
   "source": [
    "## Calculating $\\Delta$ and $\\Psi$\n",
    "Now that we have a way of describing the complex dielectric function of a component within our sample (i.e., `Gauss`), we can now calcuate the ellipsometric parameters $\\Delta$ and $\\Psi$. We'll need to load some more packages first."
   ]
  },
  {
   "cell_type": "code",
   "execution_count": 13,
   "id": "5dd7fc9a",
   "metadata": {
    "pycharm": {
     "name": "#%%\n"
    }
   },
   "outputs": [],
   "source": [
    "from refellips.structureSE import load_material, StructureSE\n",
    "from refellips.reflect_modelSE import ReflectModelSE"
   ]
  },
  {
   "cell_type": "markdown",
   "id": "0fdeb742",
   "metadata": {
    "pycharm": {
     "name": "#%% md\n"
    }
   },
   "source": [
    "Let's start by constructing the structure and model describing our interface. Let's say our system has a native oxide silica layer of 20 Å and a film thickness, which will be described by our defined Gauss oscillator, of 1800 Å. Let's start by defining each of our components."
   ]
  },
  {
   "cell_type": "code",
   "execution_count": 14,
   "id": "195032b1",
   "metadata": {
    "pycharm": {
     "name": "#%%\n"
    }
   },
   "outputs": [],
   "source": [
    "si = load_material(\"silicon\")\n",
    "sio2 = load_material(\"silica\")\n",
    "air = load_material(\"air\")\n",
    "\n",
    "Am = [1.3, 0.9]\n",
    "Br = [0.8, 0.6]\n",
    "En = [1.4, 2.8]\n",
    "Einf = 2\n",
    "\n",
    "film = Gauss(Am, Br, En, Einf)\n",
    "film_layer = film(1800)\n",
    "film_layer.thick.setp(vary=False, bounds=(100, 5000))"
   ]
  },
  {
   "cell_type": "markdown",
   "id": "7f7047cf",
   "metadata": {
    "pycharm": {
     "name": "#%% md\n"
    }
   },
   "source": [
    "We can now assemble the componetns and define the structure."
   ]
  },
  {
   "cell_type": "code",
   "execution_count": 15,
   "id": "8e304754",
   "metadata": {
    "pycharm": {
     "name": "#%%\n"
    }
   },
   "outputs": [],
   "source": [
    "struc = air() | film_layer | sio2(20) | si()"
   ]
  },
  {
   "cell_type": "markdown",
   "id": "13a801f4",
   "metadata": {
    "pycharm": {
     "name": "#%% md\n"
    }
   },
   "source": [
    "Finally, we create the model."
   ]
  },
  {
   "cell_type": "code",
   "execution_count": 16,
   "id": "00495a10",
   "metadata": {
    "pycharm": {
     "name": "#%%\n"
    }
   },
   "outputs": [],
   "source": [
    "model = ReflectModelSE(struc)"
   ]
  },
  {
   "cell_type": "markdown",
   "id": "06a950fd",
   "metadata": {
    "pycharm": {
     "name": "#%% md\n"
    }
   },
   "source": [
    "Now let's plot the results for a single wavelength across various angles of incidence."
   ]
  },
  {
   "cell_type": "code",
   "execution_count": 17,
   "id": "13eeef5d",
   "metadata": {
    "pycharm": {
     "name": "#%%\n"
    }
   },
   "outputs": [],
   "source": [
    "aoi = np.linspace(40, 65, 50)\n",
    "wavelength = [650]"
   ]
  },
  {
   "cell_type": "code",
   "execution_count": 18,
   "id": "2014f2d7",
   "metadata": {
    "pycharm": {
     "name": "#%%\n"
    }
   },
   "outputs": [
    {
     "data": {
      "image/png": "[encoded data removed]",
      "text/plain": [
       "<Figure size 576x360 with 2 Axes>"
      ]
     },
     "metadata": {
      "needs_background": "light"
     },
     "output_type": "display_data"
    }
   ],
   "source": [
    "fig, ax = plt.subplots(figsize=(8, 5))\n",
    "axt = ax.twinx()\n",
    "\n",
    "for idx, wav in enumerate(wavelength):\n",
    "    psi, delta = model(np.c_[np.ones_like(aoi) * wav, aoi])\n",
    "    (p,) = ax.plot(aoi, psi, color=\"r\")\n",
    "    (d,) = axt.plot(aoi, delta, color=\"b\")\n",
    "\n",
    "ax.legend(handles=[p, d], labels=[\"$\\Psi$\", \"$\\Delta$\"], frameon=False)\n",
    "ax.set(ylabel=\"Psi\", xlabel=\"AOI (°)\")\n",
    "axt.set(ylabel=\"Delta\")\n",
    "fig.tight_layout()"
   ]
  }
 ],
 "metadata": {
  "kernelspec": {
   "display_name": "Python 3 (ipykernel)",
   "language": "python",
   "name": "python3"
  },
  "language_info": {
   "codemirror_mode": {
    "name": "ipython",
    "version": 3
   },
   "file_extension": ".py",
   "mimetype": "text/x-python",
   "name": "python",
   "nbconvert_exporter": "python",
   "pygments_lexer": "ipython3",
   "version": "3.9.7"
  }
 },
 "nbformat": 4,
 "nbformat_minor": 5
}