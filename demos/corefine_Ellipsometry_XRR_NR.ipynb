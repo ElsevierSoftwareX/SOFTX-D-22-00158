{
 "cells": [
  {
   "cell_type": "markdown",
   "metadata": {},
   "source": [
    "# Co-refinement of ellipsometry, X-ray reflectometry and neutron reflectometry data\n",
    "This is a demonstration of how to co-refine data obtained from ellipsometry, neutron reflectometry (NR) and X-ray reflectometry (XRR) using both *refellips* and *refnx*. This notebook also demonstrates how to apply Lagrange multipliers to an individual `Objective` when constructing the `GlobalObjective`. This statistical approach may be employed to ensure that particular datasets have appropriate weightings during the co-refinement process.\n",
    "\n",
    "The data analysed in this demonstration corresponds to a polymer film grafted onto an oxisided silicon wafer. All measurements were performed at ANSTO using an Accurion EP4, the Platypus time-of-flight neutron reflectometer and the Panalytical X'Pert Pro X-ray reflectometry, respectively."
   ]
  },
  {
   "cell_type": "code",
   "execution_count": 1,
   "metadata": {},
   "outputs": [],
   "source": [
    "import numpy as np\n",
    "import pandas as pd\n",
    "import scipy\n",
    "import matplotlib.pyplot as plt"
   ]
  },
  {
   "cell_type": "code",
   "execution_count": 2,
   "metadata": {},
   "outputs": [],
   "source": [
    "import refellips\n",
    "from refellips.dataSE import open_EP4file\n",
    "from refellips import ReflectModelSE, ObjectiveSE, load_material"
   ]
  },
  {
   "cell_type": "code",
   "execution_count": 3,
   "metadata": {},
   "outputs": [],
   "source": [
    "import refnx\n",
    "from refnx.dataset import ReflectDataset as RD\n",
    "from refnx.analysis import CurveFitter, Parameter, Objective, GlobalObjective, Transform\n",
    "from refnx.reflect import Linear, Erf, SLD, ReflectModel"
   ]
  },
  {
   "cell_type": "code",
   "execution_count": 4,
   "metadata": {
    "scrolled": true
   },
   "outputs": [
    {
     "name": "stdout",
     "output_type": "stream",
     "text": [
      "refellips: 0.0.1\n",
      "refnx: 0.1.29.dev0+77a8105\n",
      "scipy: 1.8.0\n",
      "numpy: 1.22.3\n"
     ]
    }
   ],
   "source": [
    "print(f'refellips: {refellips.version.version}\\nrefnx: {refnx.version.version}\\nscipy: {scipy.version.version}\\nnumpy: {np.version.version}')"
   ]
  },
  {
   "cell_type": "markdown",
   "metadata": {},
   "source": [
    "# Load data"
   ]
  },
  {
   "cell_type": "code",
   "execution_count": 5,
   "metadata": {
    "scrolled": true
   },
   "outputs": [
    {
     "name": "stdout",
     "output_type": "stream",
     "text": [
      "No time data.\n",
      "Treating as single location\n"
     ]
    }
   ],
   "source": [
    "data_ellips = open_EP4file('corefine_PNIPAM_ellipsometry.dat')\n",
    "data_xray = RD('corefine_PNIPAM_XRR.dat')\n",
    "data_nr = RD('corefine_PNIPAM_NR.dat')"
   ]
  },
  {
   "cell_type": "markdown",
   "metadata": {},
   "source": [
    "# Build model\n",
    "First let's create global parameters which we will use for the polymer and silica thickness and roughness for each of the three models."
   ]
  },
  {
   "cell_type": "code",
   "execution_count": 6,
   "metadata": {},
   "outputs": [],
   "source": [
    "silica_thickness = Parameter(20, vary = True, bounds = (1,30), name='silica_thickness')\n",
    "polymer_thickness = Parameter(250, vary = True, bounds = (150,400), name='polymer_thickness')\n",
    "\n",
    "silica_roughness = Parameter(0.1, vary = True, bounds = (0.01,10), name='silica_roughness')\n",
    "polymer_roughness = Parameter(10, vary = True, bounds = (0.01,20), name='polymer_roughness')"
   ]
  },
  {
   "cell_type": "markdown",
   "metadata": {},
   "source": [
    "## Ellipsometry model"
   ]
  },
  {
   "cell_type": "code",
   "execution_count": 7,
   "metadata": {
    "scrolled": true
   },
   "outputs": [],
   "source": [
    "si     = load_material('silicon')\n",
    "sio2   = load_material('silica')\n",
    "PNIPAM = load_material('pnipam')\n",
    "air    = load_material('air')\n",
    "\n",
    "polymer_layer = PNIPAM(polymer_thickness, polymer_roughness)\n",
    "polymer_layer.name = 'PNIPAM'\n",
    "\n",
    "silica_layer = sio2(silica_thickness, silica_roughness)\n",
    "silica_layer.name = 'Silica'\n",
    "\n",
    "structure_ellips = air() | polymer_layer | silica_layer | si()\n",
    "structure_ellips.contract = 1.5\n",
    "\n",
    "model_ellips = ReflectModelSE(structure_ellips)"
   ]
  },
  {
   "cell_type": "markdown",
   "metadata": {},
   "source": [
    "## X-ray reflectometry model"
   ]
  },
  {
   "cell_type": "code",
   "execution_count": 8,
   "metadata": {
    "scrolled": true
   },
   "outputs": [],
   "source": [
    "si     = SLD(20.1, 'silicon')\n",
    "sio2   = SLD(22, 'silica')\n",
    "PNIPAM = SLD(10.2, 'pnipam')\n",
    "air    = SLD(0, 'air')\n",
    "\n",
    "polymer_layer = PNIPAM(polymer_thickness, polymer_roughness)\n",
    "polymer_layer.name = 'PNIPAM'\n",
    "polymer_layer.sld.real.setp(vary=True, bounds=(9.5,11))\n",
    "\n",
    "silica_layer = sio2(silica_thickness, silica_roughness)\n",
    "silica_layer.name = 'Silica'\n",
    "silica_layer.sld.real.setp(vary=True, bounds=(20,23))\n",
    "\n",
    "structure_xray = air() | polymer_layer | silica_layer | si()\n",
    "structure_xray.contract = 1.5\n",
    "\n",
    "model_xray = ReflectModel(structure_xray)\n",
    "model_xray.bkg.setp(vary=True, bounds=(1e-9, 5e-6))\n",
    "model_xray.scale.setp(value=1, vary=True, bounds=(0.7, 1.1))"
   ]
  },
  {
   "cell_type": "markdown",
   "metadata": {},
   "source": [
    "## Neutron reflectometry model"
   ]
  },
  {
   "cell_type": "code",
   "execution_count": 9,
   "metadata": {
    "scrolled": true
   },
   "outputs": [],
   "source": [
    "si     = SLD(2.07, 'silicon')\n",
    "sio2   = SLD(3.47, 'silica')\n",
    "PNIPAM = SLD(0.8, 'pnipam')\n",
    "air    = SLD(0, 'air')\n",
    "\n",
    "polymer_layer = PNIPAM(polymer_thickness, polymer_roughness)\n",
    "polymer_layer.name = 'PNIPAM'\n",
    "polymer_layer.sld.real.setp(vary=True, bounds=(0.5,0.9))\n",
    "\n",
    "silica_layer = sio2(silica_thickness, silica_roughness)\n",
    "silica_layer.name = 'Silica'\n",
    "silica_layer.sld.real.setp(vary=False)\n",
    "\n",
    "structure_nr = air() | polymer_layer | silica_layer | si()\n",
    "structure_nr.contract = 1.5\n",
    "\n",
    "model_nr = ReflectModel(structure_nr)\n",
    "model_nr.bkg.setp(vary=True, bounds=(1e-9, 5e-6))\n",
    "model_nr.scale.setp(value=1, vary=True, bounds=(0.9, 1.1))"
   ]
  },
  {
   "cell_type": "markdown",
   "metadata": {},
   "source": [
    "# Create the objectives for each technique\n",
    "For each of these three objectives, we will not weight the data. We will take this into account in the global objective. "
   ]
  },
  {
   "cell_type": "code",
   "execution_count": 10,
   "metadata": {},
   "outputs": [],
   "source": [
    "objective_ellips = ObjectiveSE(model_ellips, data_ellips, use_weights=False)\n",
    "objective_xray = Objective(model_xray, data_xray, transform=Transform('logY'), use_weights=False)\n",
    "objective_nr = Objective(model_nr, data_nr, transform=Transform('logY'), use_weights=False)"
   ]
  },
  {
   "cell_type": "markdown",
   "metadata": {},
   "source": [
    "# Create the global objective\n",
    "Here we create a global objective which includes the individual objectives for ellipsometry, X-ray reflectometry and neutron reflectometry. Here we also apply Lagrange multipliers (`lambdas`) to each objective such that each dataset has equal weighting on the negative log-likelihood. These lambda values are empirically derived and system dependent."
   ]
  },
  {
   "cell_type": "code",
   "execution_count": 11,
   "metadata": {},
   "outputs": [],
   "source": [
    "lambdas = [0.45, 0.95, 6.6] #[ellipsometry, XRR, NR]"
   ]
  },
  {
   "cell_type": "code",
   "execution_count": 12,
   "metadata": {},
   "outputs": [],
   "source": [
    "global_objective = GlobalObjective([objective_ellips, objective_xray, objective_nr], lambdas=lambdas)"
   ]
  },
  {
   "cell_type": "markdown",
   "metadata": {},
   "source": [
    "# Fit the data"
   ]
  },
  {
   "cell_type": "code",
   "execution_count": 13,
   "metadata": {},
   "outputs": [
    {
     "name": "stderr",
     "output_type": "stream",
     "text": [
      "52it [01:31,  1.77s/it]\n"
     ]
    }
   ],
   "source": [
    "fitter = CurveFitter(global_objective)\n",
    "fitter.fit('differential_evolution', target=\"nll\");"
   ]
  },
  {
   "cell_type": "markdown",
   "metadata": {},
   "source": [
    "# Optimised objectives and fit parameters"
   ]
  },
  {
   "cell_type": "code",
   "execution_count": 14,
   "metadata": {},
   "outputs": [
    {
     "data": {
      "image/png": "[encoded data removed]",
      "text/plain": [
       "<Figure size 1008x288 with 4 Axes>"
      ]
     },
     "metadata": {
      "needs_background": "light"
     },
     "output_type": "display_data"
    }
   ],
   "source": [
    "fig = plt.figure(figsize=(14,4))\n",
    "\n",
    "ax1 = fig.add_subplot(131)\n",
    "objective_ellips.plot(fig=fig);\n",
    "ax1.set_title('Ellipsometry data')\n",
    "\n",
    "ax2 = fig.add_subplot(132)\n",
    "objective_xray.plot(fig=fig);\n",
    "ax2.set_xlabel('Q')\n",
    "ax2.set_ylabel('log(R)')\n",
    "ax2.set_title('X-ray reflection data')\n",
    "\n",
    "ax3 = fig.add_subplot(133) \n",
    "objective_nr.plot(fig=fig);\n",
    "ax3.set_xlabel('Q')\n",
    "ax3.set_ylabel('log(R)')\n",
    "ax3.set_title('Neutron reflection data')\n",
    "\n",
    "fig.tight_layout()"
   ]
  },
  {
   "cell_type": "code",
   "execution_count": 15,
   "metadata": {},
   "outputs": [
    {
     "name": "stdout",
     "output_type": "stream",
     "text": [
      "1.966521846593163 77\n",
      "1.9280532297886612 196\n",
      "1.9679269477316412 111\n"
     ]
    }
   ],
   "source": [
    "for i, obj in enumerate(global_objective.objectives):\n",
    "    print(obj.nll(np.array(obj.parameters)) * lambdas[i], obj.npoints)"
   ]
  },
  {
   "cell_type": "code",
   "execution_count": 16,
   "metadata": {
    "scrolled": false
   },
   "outputs": [
    {
     "name": "stdout",
     "output_type": "stream",
     "text": [
      "_______________________________________________________________________________\n",
      "\n",
      "--Global Objective--\n",
      "________________________________________________________________________________\n",
      "Objective - 140370616190096\n",
      "Dataset = corefine_\n",
      "datapoints = 77\n",
      "chi2 = 8.740097095969613\n",
      "Weighted = False\n",
      "Transform = None\n",
      "________________________________________________________________________________\n",
      "Parameters:      None      \n",
      "________________________________________________________________________________\n",
      "Parameters: 'instrument parameters'\n",
      "<Parameter:'delta offset' , value=0 (fixed)  , bounds=[-inf, inf]>\n",
      "________________________________________________________________________________\n",
      "Parameters: 'Structure - ' \n",
      "________________________________________________________________________________\n",
      "Parameters:       ''       \n",
      "<Parameter:  ' - thick'   , value=0 (fixed)  , bounds=[-inf, inf]>\n",
      "<Parameter:  ' - rough'   , value=0 (fixed)  , bounds=[-inf, inf]>\n",
      "<Parameter:' - volfrac solvent', value=0 (fixed)  , bounds=[0.0, 1.0]>\n",
      "________________________________________________________________________________\n",
      "Parameters:    'PNIPAM'    \n",
      "<Parameter:'polymer_thickness', value=281.113 +/- 0.389, bounds=[150.0, 400.0]>\n",
      "<Parameter:'polymer_roughness', value=8.11483 +/- 0.499, bounds=[0.01, 20.0]>\n",
      "<Parameter:' - volfrac solvent', value=0 (fixed)  , bounds=[0.0, 1.0]>\n",
      "________________________________________________________________________________\n",
      "Parameters:    'Silica'    \n",
      "<Parameter:'silica_thickness', value=11.6767 +/- 0.393, bounds=[1.0, 30.0]>\n",
      "<Parameter:'silica_roughness', value=8.43918 +/- 0.409, bounds=[0.01, 10.0]>\n",
      "<Parameter:' - volfrac solvent', value=0 (fixed)  , bounds=[0.0, 1.0]>\n",
      "________________________________________________________________________________\n",
      "Parameters:       ''       \n",
      "<Parameter:  ' - thick'   , value=0 (fixed)  , bounds=[-inf, inf]>\n",
      "<Parameter:  ' - rough'   , value=0 (fixed)  , bounds=[-inf, inf]>\n",
      "<Parameter:' - volfrac solvent', value=0 (fixed)  , bounds=[0.0, 1.0]>\n",
      "\n",
      "\n",
      "________________________________________________________________________________\n",
      "Objective - 140370616189568\n",
      "Dataset = corefine_PNIPAM_XRR\n",
      "datapoints = 196\n",
      "chi2 = 4.059059431134024\n",
      "Weighted = False\n",
      "Transform = Transform('logY')\n",
      "________________________________________________________________________________\n",
      "Parameters:       ''       \n",
      "________________________________________________________________________________\n",
      "Parameters: 'instrument parameters'\n",
      "<Parameter:    'scale'    , value=1.08655 +/- 0.136, bounds=[0.7, 1.1]>\n",
      "<Parameter:     'bkg'     , value=2.22391e-08 +/- 2.98e-09, bounds=[1e-09, 5e-06]>\n",
      "<Parameter:'dq - resolution', value=5 (fixed)  , bounds=[-inf, inf]>\n",
      "<Parameter:  'q_offset'   , value=0 (fixed)  , bounds=[-inf, inf]>\n",
      "________________________________________________________________________________\n",
      "Parameters: 'Structure - ' \n",
      "________________________________________________________________________________\n",
      "Parameters:      'air'     \n",
      "<Parameter: 'air - thick' , value=0 (fixed)  , bounds=[-inf, inf]>\n",
      "<Parameter:  'air - sld'  , value=0 (fixed)  , bounds=[-inf, inf]>\n",
      "<Parameter: 'air - isld'  , value=0 (fixed)  , bounds=[-inf, inf]>\n",
      "<Parameter: 'air - rough' , value=0 (fixed)  , bounds=[-inf, inf]>\n",
      "<Parameter:'air - volfrac solvent', value=0 (fixed)  , bounds=[0.0, 1.0]>\n",
      "________________________________________________________________________________\n",
      "Parameters:    'PNIPAM'    \n",
      "<Parameter:'polymer_thickness', value=281.113 +/- 0.389, bounds=[150.0, 400.0]>\n",
      "<Parameter:'pnipam - sld' , value=10.3505 +/- 0.753, bounds=[9.5, 11.0]>\n",
      "<Parameter:'pnipam - isld', value=0 (fixed)  , bounds=[-inf, inf]>\n",
      "<Parameter:'polymer_roughness', value=8.11483 +/- 0.499, bounds=[0.01, 20.0]>\n",
      "<Parameter:'pnipam - volfrac solvent', value=0 (fixed)  , bounds=[0.0, 1.0]>\n",
      "________________________________________________________________________________\n",
      "Parameters:    'Silica'    \n",
      "<Parameter:'silica_thickness', value=11.6767 +/- 0.393, bounds=[1.0, 30.0]>\n",
      "<Parameter:'silica - sld' , value=22.4997 +/- 0.256, bounds=[20.0, 23.0]>\n",
      "<Parameter:'silica - isld', value=0 (fixed)  , bounds=[-inf, inf]>\n",
      "<Parameter:'silica_roughness', value=8.43918 +/- 0.409, bounds=[0.01, 10.0]>\n",
      "<Parameter:'silica - volfrac solvent', value=0 (fixed)  , bounds=[0.0, 1.0]>\n",
      "________________________________________________________________________________\n",
      "Parameters:    'silicon'   \n",
      "<Parameter:'silicon - thick', value=0 (fixed)  , bounds=[-inf, inf]>\n",
      "<Parameter:'silicon - sld', value=20.1 (fixed)  , bounds=[-inf, inf]>\n",
      "<Parameter:'silicon - isld', value=0 (fixed)  , bounds=[-inf, inf]>\n",
      "<Parameter:'silicon - rough', value=0 (fixed)  , bounds=[-inf, inf]>\n",
      "<Parameter:'silicon - volfrac solvent', value=0 (fixed)  , bounds=[0.0, 1.0]>\n",
      "\n",
      "\n",
      "________________________________________________________________________________\n",
      "Objective - 140370616191776\n",
      "Dataset = corefine_PNIPAM_NR\n",
      "datapoints = 111\n",
      "chi2 = 0.5963414993126186\n",
      "Weighted = False\n",
      "Transform = Transform('logY')\n",
      "________________________________________________________________________________\n",
      "Parameters:       ''       \n",
      "________________________________________________________________________________\n",
      "Parameters: 'instrument parameters'\n",
      "<Parameter:    'scale'    , value=0.901742 +/- 0.0143, bounds=[0.9, 1.1]>\n",
      "<Parameter:     'bkg'     , value=3.41815e-07 +/- 2.59e-08, bounds=[1e-09, 5e-06]>\n",
      "<Parameter:'dq - resolution', value=5 (fixed)  , bounds=[-inf, inf]>\n",
      "<Parameter:  'q_offset'   , value=0 (fixed)  , bounds=[-inf, inf]>\n",
      "________________________________________________________________________________\n",
      "Parameters: 'Structure - ' \n",
      "________________________________________________________________________________\n",
      "Parameters:      'air'     \n",
      "<Parameter: 'air - thick' , value=0 (fixed)  , bounds=[-inf, inf]>\n",
      "<Parameter:  'air - sld'  , value=0 (fixed)  , bounds=[-inf, inf]>\n",
      "<Parameter: 'air - isld'  , value=0 (fixed)  , bounds=[-inf, inf]>\n",
      "<Parameter: 'air - rough' , value=0 (fixed)  , bounds=[-inf, inf]>\n",
      "<Parameter:'air - volfrac solvent', value=0 (fixed)  , bounds=[0.0, 1.0]>\n",
      "________________________________________________________________________________\n",
      "Parameters:    'PNIPAM'    \n",
      "<Parameter:'polymer_thickness', value=281.113 +/- 0.389, bounds=[150.0, 400.0]>\n",
      "<Parameter:'pnipam - sld' , value=0.608696 +/- 0.01 , bounds=[0.5, 0.9]>\n",
      "<Parameter:'pnipam - isld', value=0 (fixed)  , bounds=[-inf, inf]>\n",
      "<Parameter:'polymer_roughness', value=8.11483 +/- 0.499, bounds=[0.01, 20.0]>\n",
      "<Parameter:'pnipam - volfrac solvent', value=0 (fixed)  , bounds=[0.0, 1.0]>\n",
      "________________________________________________________________________________\n",
      "Parameters:    'Silica'    \n",
      "<Parameter:'silica_thickness', value=11.6767 +/- 0.393, bounds=[1.0, 30.0]>\n",
      "<Parameter:'silica - sld' , value=3.47 (fixed)  , bounds=[-inf, inf]>\n",
      "<Parameter:'silica - isld', value=0 (fixed)  , bounds=[-inf, inf]>\n",
      "<Parameter:'silica_roughness', value=8.43918 +/- 0.409, bounds=[0.01, 10.0]>\n",
      "<Parameter:'silica - volfrac solvent', value=0 (fixed)  , bounds=[0.0, 1.0]>\n",
      "________________________________________________________________________________\n",
      "Parameters:    'silicon'   \n",
      "<Parameter:'silicon - thick', value=0 (fixed)  , bounds=[-inf, inf]>\n",
      "<Parameter:'silicon - sld', value=2.07 (fixed)  , bounds=[-inf, inf]>\n",
      "<Parameter:'silicon - isld', value=0 (fixed)  , bounds=[-inf, inf]>\n",
      "<Parameter:'silicon - rough', value=0 (fixed)  , bounds=[-inf, inf]>\n",
      "<Parameter:'silicon - volfrac solvent', value=0 (fixed)  , bounds=[0.0, 1.0]>\n",
      "\n",
      "\n"
     ]
    }
   ],
   "source": [
    "print(global_objective)"
   ]
  },
  {
   "cell_type": "code",
   "execution_count": null,
   "metadata": {},
   "outputs": [],
   "source": []
  }
 ],
 "metadata": {
  "kernelspec": {
   "display_name": "Python 3 (ipykernel)",
   "language": "python",
   "name": "python3"
  },
  "language_info": {
   "codemirror_mode": {
    "name": "ipython",
    "version": 3
   },
   "file_extension": ".py",
   "mimetype": "text/x-python",
   "name": "python",
   "nbconvert_exporter": "python",
   "pygments_lexer": "ipython3",
   "version": "3.9.7"
  }
 },
 "nbformat": 4,
 "nbformat_minor": 4
}
