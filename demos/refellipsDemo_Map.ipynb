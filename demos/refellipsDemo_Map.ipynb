{
 "cells": [
  {
   "cell_type": "markdown",
   "metadata": {},
   "source": [
    "# refellips demo: Solid/Air batch fitting\n",
    "This example demonstrates the use of refellips for batch fitting multiple ellipsometry data files; multiple points across the same surface. This example uses single-wavelength multi-angle ellipsometry data acquired from an Accurion EP4 ellipsometer."
   ]
  },
  {
   "cell_type": "code",
   "execution_count": null,
   "metadata": {},
   "outputs": [],
   "source": [
    "%matplotlib inline\n",
    "%load_ext autoreload\n",
    "%autoreload 2"
   ]
  },
  {
   "cell_type": "code",
   "execution_count": null,
   "metadata": {},
   "outputs": [],
   "source": [
    "import sys\n",
    "import os\n",
    "import numpy as np\n",
    "import pandas as pd\n",
    "import matplotlib.pyplot as plt\n",
    "import glob\n",
    "import re\n",
    "import copy\n",
    "import pickle\n",
    "\n",
    "from refnx.analysis import CurveFitter\n",
    "from refnx.reflect import Linear, Erf\n",
    "from scipy.interpolate import griddata\n",
    "from matplotlib.patches import Rectangle,Circle\n",
    "from scipy.optimize import curve_fit\n",
    "\n",
    "def powerlaw(x, a, k):\n",
    "    return a*x**k\n",
    "\n",
    "def line(x, a, b):\n",
    "    return a*x + b"
   ]
  },
  {
   "cell_type": "code",
   "execution_count": null,
   "metadata": {},
   "outputs": [],
   "source": [
    "from refellips.dataSE import DataSE, open_EP4file\n",
    "from refellips.reflect_modelSE import ReflectModelSE\n",
    "from refellips.objectiveSE import ObjectiveSE\n",
    "from refellips.structureSE import RI"
   ]
  },
  {
   "cell_type": "markdown",
   "metadata": {},
   "source": [
    "### Build model"
   ]
  },
  {
   "cell_type": "code",
   "execution_count": null,
   "metadata": {},
   "outputs": [],
   "source": [
    "from refnx.reflect import Slab, SLD\n",
    "si     = RI('../materials/silicon.csv')\n",
    "sio2   = RI('../materials/silica.csv')\n",
    "air    = RI('../materials/air.csv')\n",
    "\n",
    "#Demo use of Cauchy parameters instead of using a .csv file for refractive indicies.\n",
    "PNIPAM = RI(A=1.47, B=0.00495, C=0, name='PNIPAM')\n",
    "PNIPAM.A.setp(vary=True, bounds=(1.46,1.5))\n",
    "PNIPAM.B.setp(vary=True, bounds=(4000,6000))\n",
    "\n",
    "PNIPAM_layer = PNIPAM(150, 0)\n",
    "PNIPAM_layer.thick.setp(vary=True, bounds=(1,1000))\n",
    "# PNIPAM_layer.rough.setp(vary=True, bounds=(50,300))\n",
    "\n",
    "# PNIPAM_layer.interfaces = Erf()\n",
    "\n",
    "struc = air() | PNIPAM_layer | si() #will subtract the SiO2 layer thickness later\n",
    "model = ReflectModelSE(struc, wavelength=658)"
   ]
  },
  {
   "cell_type": "markdown",
   "metadata": {},
   "source": [
    "### Load in maps (EP4 ellipsometry data files with x, y locations) in with Glob"
   ]
  },
  {
   "cell_type": "code",
   "execution_count": null,
   "metadata": {
    "scrolled": true
   },
   "outputs": [],
   "source": [
    "mapnames = glob.glob(\"ExampleMaps//*.dat\")\n",
    "\n",
    "maps = {}\n",
    "for name in mapnames:\n",
    "    prettyname = ' '.join(os.path.basename(name).split('_')[:1])\n",
    "    print(prettyname)\n",
    "    maps[prettyname]  =  open_EP4file(name)"
   ]
  },
  {
   "cell_type": "markdown",
   "metadata": {},
   "source": [
    "### Fitting all data points"
   ]
  },
  {
   "cell_type": "code",
   "execution_count": null,
   "metadata": {
    "scrolled": true
   },
   "outputs": [],
   "source": [
    "metaObjs = {}\n",
    "outputs = {}\n",
    "for name, lm in maps.items():\n",
    "    Objs = []\n",
    "    output = []\n",
    "    for data in lm:\n",
    "        obj = ObjectiveSE(copy.deepcopy(model), data)\n",
    "        fitter = CurveFitter(obj)\n",
    "#         fitter.fit('differential_evolution')\n",
    "        fitter.fit('least_squares')\n",
    "        print (obj.chisqr())\n",
    "    \n",
    "        loc_thick_data = [data.metadata['X pos'],\n",
    "                          data.metadata['Y pos'],\n",
    "                          obj.model.structure[1].thick.value,\n",
    "                          obj.model.structure[1].rough.value,\n",
    "                          obj.chisqr()]\n",
    "        output.append(loc_thick_data)\n",
    "        Objs.append(obj)\n",
    "    \n",
    "    metaObjs[name] = Objs\n",
    "    outputs[name] = pd.DataFrame(data=output, columns=['X pos', 'Y pos', 'thickness', 'roughness', 'chisqr'])"
   ]
  },
  {
   "cell_type": "markdown",
   "metadata": {},
   "source": [
    "## Pickle the output so you don't have to keep refitting"
   ]
  },
  {
   "cell_type": "markdown",
   "metadata": {},
   "source": [
    "### Save fit"
   ]
  },
  {
   "cell_type": "code",
   "execution_count": null,
   "metadata": {},
   "outputs": [],
   "source": [
    "pickle.dump(outputs, open('EllipsOutput.pkl', 'wb'))"
   ]
  },
  {
   "cell_type": "markdown",
   "metadata": {},
   "source": [
    "### Load fit"
   ]
  },
  {
   "cell_type": "code",
   "execution_count": null,
   "metadata": {},
   "outputs": [],
   "source": [
    "outputs = pickle.load(open('EllipsOutput.pkl', 'rb'))\n",
    "for name, output in outputs.items():\n",
    "    outputs[name] = output[output['chisqr']<5]\n",
    "    outputs[name]['thickness'] = outputs[name]['thickness']/10"
   ]
  },
  {
   "cell_type": "markdown",
   "metadata": {},
   "source": [
    "# Plot the maps"
   ]
  },
  {
   "cell_type": "code",
   "execution_count": null,
   "metadata": {},
   "outputs": [],
   "source": [
    "for name, df in outputs.items():\n",
    "    fig, ax = plt.subplots(figsize=(3.9,3), dpi=200)\n",
    "    fig.subplots_adjust(left=0.15, right=0.85, bottom=0.15, top=0.85)\n",
    "\n",
    "    grid_x, grid_y = np.mgrid[-35:35:500j, -35:35:500j]\n",
    "\n",
    "    interp_points =  np.array([grid_x, grid_y]).T\n",
    "    points = np.array([df['X pos'], df['Y pos']]).T\n",
    "\n",
    "    interpgrid = griddata(points=points, values=df['thickness'], xi=(grid_x, grid_y), method='cubic')\n",
    "    \n",
    "    cntr = ax.contourf(grid_x, grid_y, interpgrid)\n",
    "    cbar = fig.colorbar(cntr, ax=ax)\n",
    "\n",
    "    ax.scatter(df['X pos'], df['Y pos'], color='k', marker='.',s=1)\n",
    "\n",
    "    radius=50\n",
    "    circ = plt.Circle((0, 0), radius=radius, zorder=10, facecolor=[1,1,1,0], edgecolor='k')\n",
    "    ax.add_artist(circ)\n",
    "\n",
    "    rec = plt.Rectangle((-15, -25), width=30, height=50, zorder=10, facecolor=[1,1,1,0], edgecolor='k')\n",
    "    ax.add_artist(rec)\n",
    "\n",
    "    ax.set(ylabel='y (mm)', xlabel='x (mm)', ybound=(-40,40), xbound=(-40,40))\n",
    "    cbar.set_label('thickness (nm)')\n",
    "    fig.suptitle(name[:-4], fontweight='bold')"
   ]
  },
  {
   "cell_type": "code",
   "execution_count": null,
   "metadata": {},
   "outputs": [],
   "source": []
  }
 ],
 "metadata": {
  "kernelspec": {
   "display_name": "Python 3 (ipykernel)",
   "language": "python",
   "name": "python3"
  },
  "language_info": {
   "codemirror_mode": {
    "name": "ipython",
    "version": 3
   },
   "file_extension": ".py",
   "mimetype": "text/x-python",
   "name": "python",
   "nbconvert_exporter": "python",
   "pygments_lexer": "ipython3",
   "version": "3.9.6"
  }
 },
 "nbformat": 4,
 "nbformat_minor": 4
}
